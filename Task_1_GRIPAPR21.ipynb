{
 "cells": [
  {
   "cell_type": "markdown",
   "id": "74bf3b17",
   "metadata": {},
   "source": [
    "# Samruddhi Zemse ( Data Science And Business Analytics Intern )\n",
    "\n",
    "\n",
    "# TASK 1: 3) Exploratory Data Analysis: Retail\n",
    "   \n",
    "   Problem Statement:\n",
    "   \n",
    "         Perform ‘Exploratory Data Analysis’ on dataset ‘SampleSuperstore’\n",
    "         As a business manager, try to find out the weak areas where you can\n",
    "         work to make more profit."
   ]
  },
  {
   "cell_type": "code",
   "execution_count": 3,
   "id": "029f0c73",
   "metadata": {},
   "outputs": [],
   "source": [
    "import pandas as pd\n",
    "import numpy as np\n",
    "import seaborn as sns\n",
    "import matplotlib.pyplot as plt\n",
    "%matplotlib inline"
   ]
  },
  {
   "cell_type": "code",
   "execution_count": 10,
   "id": "8fc319fe",
   "metadata": {},
   "outputs": [],
   "source": [
    "# LOADING DATA\n",
    "data=pd.read_csv(r'C:\\Users\\User\\Desktop\\SampleSuperstore.csv')"
   ]
  },
  {
   "cell_type": "code",
   "execution_count": 11,
   "id": "5bd55101",
   "metadata": {},
   "outputs": [
    {
     "data": {
      "text/html": [
       "<div>\n",
       "<style scoped>\n",
       "    .dataframe tbody tr th:only-of-type {\n",
       "        vertical-align: middle;\n",
       "    }\n",
       "\n",
       "    .dataframe tbody tr th {\n",
       "        vertical-align: top;\n",
       "    }\n",
       "\n",
       "    .dataframe thead th {\n",
       "        text-align: right;\n",
       "    }\n",
       "</style>\n",
       "<table border=\"1\" class=\"dataframe\">\n",
       "  <thead>\n",
       "    <tr style=\"text-align: right;\">\n",
       "      <th></th>\n",
       "      <th>Ship Mode</th>\n",
       "      <th>Segment</th>\n",
       "      <th>Country</th>\n",
       "      <th>City</th>\n",
       "      <th>State</th>\n",
       "      <th>Postal Code</th>\n",
       "      <th>Region</th>\n",
       "      <th>Category</th>\n",
       "      <th>Sub-Category</th>\n",
       "      <th>Sales</th>\n",
       "      <th>Quantity</th>\n",
       "      <th>Discount</th>\n",
       "      <th>Profit</th>\n",
       "    </tr>\n",
       "  </thead>\n",
       "  <tbody>\n",
       "    <tr>\n",
       "      <th>0</th>\n",
       "      <td>Second Class</td>\n",
       "      <td>Consumer</td>\n",
       "      <td>United States</td>\n",
       "      <td>Henderson</td>\n",
       "      <td>Kentucky</td>\n",
       "      <td>42420</td>\n",
       "      <td>South</td>\n",
       "      <td>Furniture</td>\n",
       "      <td>Bookcases</td>\n",
       "      <td>261.9600</td>\n",
       "      <td>2</td>\n",
       "      <td>0.00</td>\n",
       "      <td>41.9136</td>\n",
       "    </tr>\n",
       "    <tr>\n",
       "      <th>1</th>\n",
       "      <td>Second Class</td>\n",
       "      <td>Consumer</td>\n",
       "      <td>United States</td>\n",
       "      <td>Henderson</td>\n",
       "      <td>Kentucky</td>\n",
       "      <td>42420</td>\n",
       "      <td>South</td>\n",
       "      <td>Furniture</td>\n",
       "      <td>Chairs</td>\n",
       "      <td>731.9400</td>\n",
       "      <td>3</td>\n",
       "      <td>0.00</td>\n",
       "      <td>219.5820</td>\n",
       "    </tr>\n",
       "    <tr>\n",
       "      <th>2</th>\n",
       "      <td>Second Class</td>\n",
       "      <td>Corporate</td>\n",
       "      <td>United States</td>\n",
       "      <td>Los Angeles</td>\n",
       "      <td>California</td>\n",
       "      <td>90036</td>\n",
       "      <td>West</td>\n",
       "      <td>Office Supplies</td>\n",
       "      <td>Labels</td>\n",
       "      <td>14.6200</td>\n",
       "      <td>2</td>\n",
       "      <td>0.00</td>\n",
       "      <td>6.8714</td>\n",
       "    </tr>\n",
       "    <tr>\n",
       "      <th>3</th>\n",
       "      <td>Standard Class</td>\n",
       "      <td>Consumer</td>\n",
       "      <td>United States</td>\n",
       "      <td>Fort Lauderdale</td>\n",
       "      <td>Florida</td>\n",
       "      <td>33311</td>\n",
       "      <td>South</td>\n",
       "      <td>Furniture</td>\n",
       "      <td>Tables</td>\n",
       "      <td>957.5775</td>\n",
       "      <td>5</td>\n",
       "      <td>0.45</td>\n",
       "      <td>-383.0310</td>\n",
       "    </tr>\n",
       "    <tr>\n",
       "      <th>4</th>\n",
       "      <td>Standard Class</td>\n",
       "      <td>Consumer</td>\n",
       "      <td>United States</td>\n",
       "      <td>Fort Lauderdale</td>\n",
       "      <td>Florida</td>\n",
       "      <td>33311</td>\n",
       "      <td>South</td>\n",
       "      <td>Office Supplies</td>\n",
       "      <td>Storage</td>\n",
       "      <td>22.3680</td>\n",
       "      <td>2</td>\n",
       "      <td>0.20</td>\n",
       "      <td>2.5164</td>\n",
       "    </tr>\n",
       "  </tbody>\n",
       "</table>\n",
       "</div>"
      ],
      "text/plain": [
       "        Ship Mode    Segment        Country             City       State  \\\n",
       "0    Second Class   Consumer  United States        Henderson    Kentucky   \n",
       "1    Second Class   Consumer  United States        Henderson    Kentucky   \n",
       "2    Second Class  Corporate  United States      Los Angeles  California   \n",
       "3  Standard Class   Consumer  United States  Fort Lauderdale     Florida   \n",
       "4  Standard Class   Consumer  United States  Fort Lauderdale     Florida   \n",
       "\n",
       "   Postal Code Region         Category Sub-Category     Sales  Quantity  \\\n",
       "0        42420  South        Furniture    Bookcases  261.9600         2   \n",
       "1        42420  South        Furniture       Chairs  731.9400         3   \n",
       "2        90036   West  Office Supplies       Labels   14.6200         2   \n",
       "3        33311  South        Furniture       Tables  957.5775         5   \n",
       "4        33311  South  Office Supplies      Storage   22.3680         2   \n",
       "\n",
       "   Discount    Profit  \n",
       "0      0.00   41.9136  \n",
       "1      0.00  219.5820  \n",
       "2      0.00    6.8714  \n",
       "3      0.45 -383.0310  \n",
       "4      0.20    2.5164  "
      ]
     },
     "execution_count": 11,
     "metadata": {},
     "output_type": "execute_result"
    }
   ],
   "source": [
    "# TO SEE THETOP 5 ENTERIES\n",
    "data.head()"
   ]
  },
  {
   "cell_type": "code",
   "execution_count": 12,
   "id": "d6cc9674",
   "metadata": {},
   "outputs": [
    {
     "data": {
      "text/plain": [
       "Ship Mode       0\n",
       "Segment         0\n",
       "Country         0\n",
       "City            0\n",
       "State           0\n",
       "Postal Code     0\n",
       "Region          0\n",
       "Category        0\n",
       "Sub-Category    0\n",
       "Sales           0\n",
       "Quantity        0\n",
       "Discount        0\n",
       "Profit          0\n",
       "dtype: int64"
      ]
     },
     "execution_count": 12,
     "metadata": {},
     "output_type": "execute_result"
    }
   ],
   "source": [
    "# CHECK MISSING VALUES\n",
    "data.isnull().sum()"
   ]
  },
  {
   "cell_type": "code",
   "execution_count": 13,
   "id": "98e260b8",
   "metadata": {},
   "outputs": [],
   "source": [
    "# THE DATASET HAS NO NULL VALUES"
   ]
  },
  {
   "cell_type": "code",
   "execution_count": 14,
   "id": "f323ec15",
   "metadata": {},
   "outputs": [
    {
     "name": "stdout",
     "output_type": "stream",
     "text": [
      "<class 'pandas.core.frame.DataFrame'>\n",
      "RangeIndex: 9994 entries, 0 to 9993\n",
      "Data columns (total 13 columns):\n",
      " #   Column        Non-Null Count  Dtype  \n",
      "---  ------        --------------  -----  \n",
      " 0   Ship Mode     9994 non-null   object \n",
      " 1   Segment       9994 non-null   object \n",
      " 2   Country       9994 non-null   object \n",
      " 3   City          9994 non-null   object \n",
      " 4   State         9994 non-null   object \n",
      " 5   Postal Code   9994 non-null   int64  \n",
      " 6   Region        9994 non-null   object \n",
      " 7   Category      9994 non-null   object \n",
      " 8   Sub-Category  9994 non-null   object \n",
      " 9   Sales         9994 non-null   float64\n",
      " 10  Quantity      9994 non-null   int64  \n",
      " 11  Discount      9994 non-null   float64\n",
      " 12  Profit        9994 non-null   float64\n",
      "dtypes: float64(3), int64(2), object(8)\n",
      "memory usage: 1015.1+ KB\n"
     ]
    }
   ],
   "source": [
    "data.info()"
   ]
  },
  {
   "cell_type": "code",
   "execution_count": 15,
   "id": "abece423",
   "metadata": {},
   "outputs": [
    {
     "data": {
      "text/html": [
       "<div>\n",
       "<style scoped>\n",
       "    .dataframe tbody tr th:only-of-type {\n",
       "        vertical-align: middle;\n",
       "    }\n",
       "\n",
       "    .dataframe tbody tr th {\n",
       "        vertical-align: top;\n",
       "    }\n",
       "\n",
       "    .dataframe thead th {\n",
       "        text-align: right;\n",
       "    }\n",
       "</style>\n",
       "<table border=\"1\" class=\"dataframe\">\n",
       "  <thead>\n",
       "    <tr style=\"text-align: right;\">\n",
       "      <th></th>\n",
       "      <th>Postal Code</th>\n",
       "      <th>Sales</th>\n",
       "      <th>Quantity</th>\n",
       "      <th>Discount</th>\n",
       "      <th>Profit</th>\n",
       "    </tr>\n",
       "  </thead>\n",
       "  <tbody>\n",
       "    <tr>\n",
       "      <th>count</th>\n",
       "      <td>9994.000000</td>\n",
       "      <td>9994.000000</td>\n",
       "      <td>9994.000000</td>\n",
       "      <td>9994.000000</td>\n",
       "      <td>9994.000000</td>\n",
       "    </tr>\n",
       "    <tr>\n",
       "      <th>mean</th>\n",
       "      <td>55190.379428</td>\n",
       "      <td>229.858001</td>\n",
       "      <td>3.789574</td>\n",
       "      <td>0.156203</td>\n",
       "      <td>28.656896</td>\n",
       "    </tr>\n",
       "    <tr>\n",
       "      <th>std</th>\n",
       "      <td>32063.693350</td>\n",
       "      <td>623.245101</td>\n",
       "      <td>2.225110</td>\n",
       "      <td>0.206452</td>\n",
       "      <td>234.260108</td>\n",
       "    </tr>\n",
       "    <tr>\n",
       "      <th>min</th>\n",
       "      <td>1040.000000</td>\n",
       "      <td>0.444000</td>\n",
       "      <td>1.000000</td>\n",
       "      <td>0.000000</td>\n",
       "      <td>-6599.978000</td>\n",
       "    </tr>\n",
       "    <tr>\n",
       "      <th>25%</th>\n",
       "      <td>23223.000000</td>\n",
       "      <td>17.280000</td>\n",
       "      <td>2.000000</td>\n",
       "      <td>0.000000</td>\n",
       "      <td>1.728750</td>\n",
       "    </tr>\n",
       "    <tr>\n",
       "      <th>50%</th>\n",
       "      <td>56430.500000</td>\n",
       "      <td>54.490000</td>\n",
       "      <td>3.000000</td>\n",
       "      <td>0.200000</td>\n",
       "      <td>8.666500</td>\n",
       "    </tr>\n",
       "    <tr>\n",
       "      <th>75%</th>\n",
       "      <td>90008.000000</td>\n",
       "      <td>209.940000</td>\n",
       "      <td>5.000000</td>\n",
       "      <td>0.200000</td>\n",
       "      <td>29.364000</td>\n",
       "    </tr>\n",
       "    <tr>\n",
       "      <th>max</th>\n",
       "      <td>99301.000000</td>\n",
       "      <td>22638.480000</td>\n",
       "      <td>14.000000</td>\n",
       "      <td>0.800000</td>\n",
       "      <td>8399.976000</td>\n",
       "    </tr>\n",
       "  </tbody>\n",
       "</table>\n",
       "</div>"
      ],
      "text/plain": [
       "        Postal Code         Sales     Quantity     Discount       Profit\n",
       "count   9994.000000   9994.000000  9994.000000  9994.000000  9994.000000\n",
       "mean   55190.379428    229.858001     3.789574     0.156203    28.656896\n",
       "std    32063.693350    623.245101     2.225110     0.206452   234.260108\n",
       "min     1040.000000      0.444000     1.000000     0.000000 -6599.978000\n",
       "25%    23223.000000     17.280000     2.000000     0.000000     1.728750\n",
       "50%    56430.500000     54.490000     3.000000     0.200000     8.666500\n",
       "75%    90008.000000    209.940000     5.000000     0.200000    29.364000\n",
       "max    99301.000000  22638.480000    14.000000     0.800000  8399.976000"
      ]
     },
     "execution_count": 15,
     "metadata": {},
     "output_type": "execute_result"
    }
   ],
   "source": [
    "data.describe()"
   ]
  },
  {
   "cell_type": "markdown",
   "id": "83fd5d6b",
   "metadata": {},
   "source": [
    "# OBSERVATION:\n",
    " MIN SALES =0.444,MAX SALES=22638.48, MIN PROFIT=-6599.978,MAX PROFIT=8399.976"
   ]
  },
  {
   "cell_type": "code",
   "execution_count": 16,
   "id": "01d7d6a8",
   "metadata": {},
   "outputs": [
    {
     "name": "stdout",
     "output_type": "stream",
     "text": [
      "Total Sales are 2297200.8603000003 and Total Profit is 286397.0217 \n"
     ]
    }
   ],
   "source": [
    "#CALCULATNG TOTAL SALES AND TOTAL PROFIT\n",
    "print('Total Sales are {} and Total Profit is {} '.format(data['Sales'].sum(),data['Profit'].sum()))"
   ]
  },
  {
   "cell_type": "markdown",
   "id": "128cbeba",
   "metadata": {},
   "source": [
    "# COUNTRY"
   ]
  },
  {
   "cell_type": "code",
   "execution_count": 17,
   "id": "b762ab39",
   "metadata": {},
   "outputs": [
    {
     "data": {
      "text/plain": [
       "United States    9994\n",
       "Name: Country, dtype: int64"
      ]
     },
     "execution_count": 17,
     "metadata": {},
     "output_type": "execute_result"
    }
   ],
   "source": [
    "#CHECK THE DIFFERENT COUNTRIES\n",
    "data['Country'].value_counts()"
   ]
  },
  {
   "cell_type": "markdown",
   "id": "ec8f7fe1",
   "metadata": {},
   "source": [
    "# OBSERVATION: \n",
    "There is only one country in the dataset therefore, there is no need of Country and Postal code so drop from dataset."
   ]
  },
  {
   "cell_type": "code",
   "execution_count": 18,
   "id": "3662d58c",
   "metadata": {},
   "outputs": [],
   "source": [
    "data=data.drop(['Country','Postal Code'],axis=1)"
   ]
  },
  {
   "cell_type": "code",
   "execution_count": 19,
   "id": "7b985e2c",
   "metadata": {},
   "outputs": [
    {
     "data": {
      "text/html": [
       "<div>\n",
       "<style scoped>\n",
       "    .dataframe tbody tr th:only-of-type {\n",
       "        vertical-align: middle;\n",
       "    }\n",
       "\n",
       "    .dataframe tbody tr th {\n",
       "        vertical-align: top;\n",
       "    }\n",
       "\n",
       "    .dataframe thead th {\n",
       "        text-align: right;\n",
       "    }\n",
       "</style>\n",
       "<table border=\"1\" class=\"dataframe\">\n",
       "  <thead>\n",
       "    <tr style=\"text-align: right;\">\n",
       "      <th></th>\n",
       "      <th>Ship Mode</th>\n",
       "      <th>Segment</th>\n",
       "      <th>City</th>\n",
       "      <th>State</th>\n",
       "      <th>Region</th>\n",
       "      <th>Category</th>\n",
       "      <th>Sub-Category</th>\n",
       "      <th>Sales</th>\n",
       "      <th>Quantity</th>\n",
       "      <th>Discount</th>\n",
       "      <th>Profit</th>\n",
       "    </tr>\n",
       "  </thead>\n",
       "  <tbody>\n",
       "    <tr>\n",
       "      <th>0</th>\n",
       "      <td>Second Class</td>\n",
       "      <td>Consumer</td>\n",
       "      <td>Henderson</td>\n",
       "      <td>Kentucky</td>\n",
       "      <td>South</td>\n",
       "      <td>Furniture</td>\n",
       "      <td>Bookcases</td>\n",
       "      <td>261.9600</td>\n",
       "      <td>2</td>\n",
       "      <td>0.00</td>\n",
       "      <td>41.9136</td>\n",
       "    </tr>\n",
       "    <tr>\n",
       "      <th>1</th>\n",
       "      <td>Second Class</td>\n",
       "      <td>Consumer</td>\n",
       "      <td>Henderson</td>\n",
       "      <td>Kentucky</td>\n",
       "      <td>South</td>\n",
       "      <td>Furniture</td>\n",
       "      <td>Chairs</td>\n",
       "      <td>731.9400</td>\n",
       "      <td>3</td>\n",
       "      <td>0.00</td>\n",
       "      <td>219.5820</td>\n",
       "    </tr>\n",
       "    <tr>\n",
       "      <th>2</th>\n",
       "      <td>Second Class</td>\n",
       "      <td>Corporate</td>\n",
       "      <td>Los Angeles</td>\n",
       "      <td>California</td>\n",
       "      <td>West</td>\n",
       "      <td>Office Supplies</td>\n",
       "      <td>Labels</td>\n",
       "      <td>14.6200</td>\n",
       "      <td>2</td>\n",
       "      <td>0.00</td>\n",
       "      <td>6.8714</td>\n",
       "    </tr>\n",
       "    <tr>\n",
       "      <th>3</th>\n",
       "      <td>Standard Class</td>\n",
       "      <td>Consumer</td>\n",
       "      <td>Fort Lauderdale</td>\n",
       "      <td>Florida</td>\n",
       "      <td>South</td>\n",
       "      <td>Furniture</td>\n",
       "      <td>Tables</td>\n",
       "      <td>957.5775</td>\n",
       "      <td>5</td>\n",
       "      <td>0.45</td>\n",
       "      <td>-383.0310</td>\n",
       "    </tr>\n",
       "    <tr>\n",
       "      <th>4</th>\n",
       "      <td>Standard Class</td>\n",
       "      <td>Consumer</td>\n",
       "      <td>Fort Lauderdale</td>\n",
       "      <td>Florida</td>\n",
       "      <td>South</td>\n",
       "      <td>Office Supplies</td>\n",
       "      <td>Storage</td>\n",
       "      <td>22.3680</td>\n",
       "      <td>2</td>\n",
       "      <td>0.20</td>\n",
       "      <td>2.5164</td>\n",
       "    </tr>\n",
       "  </tbody>\n",
       "</table>\n",
       "</div>"
      ],
      "text/plain": [
       "        Ship Mode    Segment             City       State Region  \\\n",
       "0    Second Class   Consumer        Henderson    Kentucky  South   \n",
       "1    Second Class   Consumer        Henderson    Kentucky  South   \n",
       "2    Second Class  Corporate      Los Angeles  California   West   \n",
       "3  Standard Class   Consumer  Fort Lauderdale     Florida  South   \n",
       "4  Standard Class   Consumer  Fort Lauderdale     Florida  South   \n",
       "\n",
       "          Category Sub-Category     Sales  Quantity  Discount    Profit  \n",
       "0        Furniture    Bookcases  261.9600         2      0.00   41.9136  \n",
       "1        Furniture       Chairs  731.9400         3      0.00  219.5820  \n",
       "2  Office Supplies       Labels   14.6200         2      0.00    6.8714  \n",
       "3        Furniture       Tables  957.5775         5      0.45 -383.0310  \n",
       "4  Office Supplies      Storage   22.3680         2      0.20    2.5164  "
      ]
     },
     "execution_count": 19,
     "metadata": {},
     "output_type": "execute_result"
    }
   ],
   "source": [
    "data.head()"
   ]
  },
  {
   "cell_type": "code",
   "execution_count": 21,
   "id": "a7c6b716",
   "metadata": {},
   "outputs": [
    {
     "data": {
      "text/plain": [
       "<AxesSubplot:>"
      ]
     },
     "execution_count": 21,
     "metadata": {},
     "output_type": "execute_result"
    },
    {
     "data": {
      "image/png": "[encoded data removed]",
      "text/plain": [
       "<Figure size 432x288 with 2 Axes>"
      ]
     },
     "metadata": {
      "needs_background": "light"
     },
     "output_type": "display_data"
    }
   ],
   "source": [
    "sns.heatmap(data.corr(),annot = True, cmap = 'Oranges')"
   ]
  },
  {
   "cell_type": "code",
   "execution_count": 22,
   "id": "f5799076",
   "metadata": {},
   "outputs": [],
   "source": [
    "# FROM THE ABOVE HEATMAP CORRELATION BETWEEN ALL FACTORS CAN BE SEEN"
   ]
  },
  {
   "cell_type": "markdown",
   "id": "0e70a252",
   "metadata": {},
   "source": [
    "# CONSIDERING EACH FEATURE AND ANALYSING SEPERATELY FOR SOLUTION TO THE GIVEN PROBLEM "
   ]
  },
  {
   "cell_type": "markdown",
   "id": "147d1251",
   "metadata": {},
   "source": [
    "# Customers"
   ]
  },
  {
   "cell_type": "code",
   "execution_count": 23,
   "id": "46b5f9b0",
   "metadata": {},
   "outputs": [
    {
     "data": {
      "text/plain": [
       "'ConsumerCorporateHome Office'"
      ]
     },
     "execution_count": 23,
     "metadata": {},
     "output_type": "execute_result"
    }
   ],
   "source": [
    "data['Segment'].unique().sum()"
   ]
  },
  {
   "cell_type": "code",
   "execution_count": 24,
   "id": "a0d641a3",
   "metadata": {},
   "outputs": [],
   "source": [
    "# THREE CATEGORIES FOR CUSTOMER i.e., CONSUMER,CORPORATE, HOME OFFICE"
   ]
  },
  {
   "cell_type": "code",
   "execution_count": 25,
   "id": "ef9555b4",
   "metadata": {},
   "outputs": [
    {
     "name": "stderr",
     "output_type": "stream",
     "text": [
      "<ipython-input-25-f204afc42bf2>:1: FutureWarning: Indexing with multiple keys (implicitly converted to a tuple of keys) will be deprecated, use a list instead.\n",
      "  data.groupby('Segment')['Sales','Profit'].sum().plot.bar()\n"
     ]
    },
    {
     "data": {
      "text/plain": [
       "<AxesSubplot:xlabel='Segment'>"
      ]
     },
     "execution_count": 25,
     "metadata": {},
     "output_type": "execute_result"
    },
    {
     "data": {
      "image/png": "[encoded data removed]",
      "text/plain": [
       "<Figure size 432x288 with 1 Axes>"
      ]
     },
     "metadata": {
      "needs_background": "light"
     },
     "output_type": "display_data"
    }
   ],
   "source": [
    "data.groupby('Segment')['Sales','Profit'].sum().plot.bar()"
   ]
  },
  {
   "cell_type": "markdown",
   "id": "07d06ecc",
   "metadata": {},
   "source": [
    "# OBSERVATION:\n",
    " 1. Consumer has both maximum Sales and Profit.\n",
    " 2. Sales and Profit are directly related."
   ]
  },
  {
   "cell_type": "code",
   "execution_count": 26,
   "id": "fb096499",
   "metadata": {},
   "outputs": [
    {
     "data": {
      "text/plain": [
       "<AxesSubplot:xlabel='Segment', ylabel='count'>"
      ]
     },
     "execution_count": 26,
     "metadata": {},
     "output_type": "execute_result"
    },
    {
     "data": {
      "image/png": "[encoded data removed]",
      "text/plain": [
       "<Figure size 432x288 with 1 Axes>"
      ]
     },
     "metadata": {
      "needs_background": "light"
     },
     "output_type": "display_data"
    }
   ],
   "source": [
    "# RELATION BETWEEN SEGMENT AND SHIP MODE\n",
    "sns.countplot(x='Segment',hue='Ship Mode',data=data)"
   ]
  },
  {
   "cell_type": "markdown",
   "id": "0b142781",
   "metadata": {},
   "source": [
    "# OBSERVATION:\n",
    "Most transactions are done using Standard Class by all types of Segment class."
   ]
  },
  {
   "cell_type": "markdown",
   "id": "06764ef5",
   "metadata": {},
   "source": [
    "# Region"
   ]
  },
  {
   "cell_type": "code",
   "execution_count": 27,
   "id": "02c6f5c4",
   "metadata": {},
   "outputs": [
    {
     "data": {
      "image/png": "[encoded data removed]",
      "text/plain": [
       "<Figure size 432x288 with 1 Axes>"
      ]
     },
     "metadata": {},
     "output_type": "display_data"
    }
   ],
   "source": [
    "data['Region'].value_counts().plot.pie(autopct='%.1f%%')\n",
    "plt.show()"
   ]
  },
  {
   "cell_type": "markdown",
   "id": "042a8830",
   "metadata": {},
   "source": [
    "# OBSERVATION:\n",
    " Maximum transactions are done by the West region ans Least by South."
   ]
  },
  {
   "cell_type": "code",
   "execution_count": 28,
   "id": "5a7abedd",
   "metadata": {},
   "outputs": [
    {
     "name": "stderr",
     "output_type": "stream",
     "text": [
      "<ipython-input-28-f06c5d4f2034>:1: FutureWarning: Indexing with multiple keys (implicitly converted to a tuple of keys) will be deprecated, use a list instead.\n",
      "  data.groupby('Region')['Sales','Profit'].sum().plot.bar()\n"
     ]
    },
    {
     "data": {
      "text/plain": [
       "<AxesSubplot:xlabel='Region'>"
      ]
     },
     "execution_count": 28,
     "metadata": {},
     "output_type": "execute_result"
    },
    {
     "data": {
      "image/png": "[encoded data removed]",
      "text/plain": [
       "<Figure size 432x288 with 1 Axes>"
      ]
     },
     "metadata": {
      "needs_background": "light"
     },
     "output_type": "display_data"
    }
   ],
   "source": [
    "data.groupby('Region')['Sales','Profit'].sum().plot.bar()"
   ]
  },
  {
   "cell_type": "markdown",
   "id": "f683aebc",
   "metadata": {},
   "source": [
    "# OBSERVATION:\n",
    "  1. West has maximum Sales and Profit.\n",
    "  2. South has Least Sales and Profit."
   ]
  },
  {
   "cell_type": "markdown",
   "id": "eed288b6",
   "metadata": {},
   "source": [
    "# Products"
   ]
  },
  {
   "cell_type": "code",
   "execution_count": 29,
   "id": "f138c7ea",
   "metadata": {},
   "outputs": [
    {
     "name": "stderr",
     "output_type": "stream",
     "text": [
      "<ipython-input-29-72885d85efb2>:1: FutureWarning: Indexing with multiple keys (implicitly converted to a tuple of keys) will be deprecated, use a list instead.\n",
      "  data.groupby('Category')['Sales','Profit'].sum().plot.bar()\n"
     ]
    },
    {
     "data": {
      "text/plain": [
       "<AxesSubplot:xlabel='Category'>"
      ]
     },
     "execution_count": 29,
     "metadata": {},
     "output_type": "execute_result"
    },
    {
     "data": {
      "image/png": "[encoded data removed]",
      "text/plain": [
       "<Figure size 432x288 with 1 Axes>"
      ]
     },
     "metadata": {
      "needs_background": "light"
     },
     "output_type": "display_data"
    }
   ],
   "source": [
    "data.groupby('Category')['Sales','Profit'].sum().plot.bar()"
   ]
  },
  {
   "cell_type": "markdown",
   "id": "1bfdd3a4",
   "metadata": {},
   "source": [
    "# OBSERVATION:\n",
    "1. Technology has highest Sales and Profit.\n",
    "2. Furniture has least Sales and Profit."
   ]
  },
  {
   "cell_type": "code",
   "execution_count": 33,
   "id": "9bae7db7",
   "metadata": {},
   "outputs": [
    {
     "name": "stderr",
     "output_type": "stream",
     "text": [
      "<ipython-input-33-0eaf87bbc312>:1: FutureWarning: Indexing with multiple keys (implicitly converted to a tuple of keys) will be deprecated, use a list instead.\n",
      "  data[data['Category']=='Furniture'].groupby('Sub-Category')['Sales','Profit'].sum().plot.bar()\n"
     ]
    },
    {
     "data": {
      "image/png": "[encoded data removed]",
      "text/plain": [
       "<Figure size 432x288 with 1 Axes>"
      ]
     },
     "metadata": {
      "needs_background": "light"
     },
     "output_type": "display_data"
    }
   ],
   "source": [
    "data[data['Category']=='Furniture'].groupby('Sub-Category')['Sales','Profit'].sum().plot.bar()\n",
    "plt.show()"
   ]
  },
  {
   "cell_type": "markdown",
   "id": "120c43df",
   "metadata": {},
   "source": [
    "# OBSERVATION:\n",
    " 1. Chairs are having maximum Sales and Profit\n",
    " 2. Book cases  and Tables have Minimum Profit rather are running in loss"
   ]
  },
  {
   "cell_type": "code",
   "execution_count": 34,
   "id": "027821c2",
   "metadata": {},
   "outputs": [],
   "source": [
    "# ANALYZING WHY BOOK CASES AND TABLES ARE FACING LOSS BY COMPARING THEM WITH THE DISCOUNTS\n"
   ]
  },
  {
   "cell_type": "code",
   "execution_count": 35,
   "id": "84a149c0",
   "metadata": {},
   "outputs": [
    {
     "data": {
      "text/plain": [
       "<AxesSubplot:xlabel='Sub-Category'>"
      ]
     },
     "execution_count": 35,
     "metadata": {},
     "output_type": "execute_result"
    },
    {
     "data": {
      "image/png": "[encoded data removed]",
      "text/plain": [
       "<Figure size 432x288 with 1 Axes>"
      ]
     },
     "metadata": {
      "needs_background": "light"
     },
     "output_type": "display_data"
    }
   ],
   "source": [
    "data[data['Category']=='Furniture'].groupby('Sub-Category')['Discount'].mean().plot.bar()"
   ]
  },
  {
   "cell_type": "markdown",
   "id": "92df308f",
   "metadata": {},
   "source": [
    "# OBSERVATION:\n",
    " Book Cases and Tables have maximum Discount more than 20%"
   ]
  },
  {
   "cell_type": "code",
   "execution_count": 36,
   "id": "b48bedd1",
   "metadata": {},
   "outputs": [
    {
     "data": {
      "text/plain": [
       "<AxesSubplot:>"
      ]
     },
     "execution_count": 36,
     "metadata": {},
     "output_type": "execute_result"
    },
    {
     "data": {
      "image/png": "[encoded data removed]",
      "text/plain": [
       "<Figure size 432x288 with 2 Axes>"
      ]
     },
     "metadata": {
      "needs_background": "light"
     },
     "output_type": "display_data"
    }
   ],
   "source": [
    "sns.heatmap(data.corr(),annot=True)"
   ]
  },
  {
   "cell_type": "markdown",
   "id": "01ffbf67",
   "metadata": {},
   "source": [
    "# OBSERVATION:\n",
    " The correlation between both Profit and Sales with Discount is Negative."
   ]
  },
  {
   "cell_type": "code",
   "execution_count": 38,
   "id": "fbcd6645",
   "metadata": {},
   "outputs": [
    {
     "data": {
      "image/png": "[encoded data removed]",
      "text/plain": [
       "<Figure size 432x288 with 2 Axes>"
      ]
     },
     "metadata": {
      "needs_background": "light"
     },
     "output_type": "display_data"
    }
   ],
   "source": [
    "sales_coz_discount = pd.pivot_table(data = data, index = 'Region', columns = 'Discount', values ='Sales', aggfunc ='sum')\n",
    "sns.heatmap(sales_coz_discount,cmap ='Greens')\n",
    "plt.show()"
   ]
  },
  {
   "cell_type": "markdown",
   "id": "4eed4af6",
   "metadata": {},
   "source": [
    "# OBSERVATION:\n",
    "  For a discount over 20% there is not much sale which has caused loss in the furniture category\n",
    "  \n",
    " # Solution:\n",
    "   ONE OF THE POSSIBLE SOLUTION IS TO REDUCE THE DISCOUNT % FROM 20% OF THE FURNITURE CATEGORY TO INCREASE PROFIT"
   ]
  },
  {
   "cell_type": "markdown",
   "id": "76a07bb4",
   "metadata": {},
   "source": [
    "# City And State"
   ]
  },
  {
   "cell_type": "code",
   "execution_count": 40,
   "id": "2f1309e4",
   "metadata": {},
   "outputs": [
    {
     "data": {
      "text/plain": [
       "49"
      ]
     },
     "execution_count": 40,
     "metadata": {},
     "output_type": "execute_result"
    }
   ],
   "source": [
    "data['State'].value_counts().count()"
   ]
  },
  {
   "cell_type": "code",
   "execution_count": 41,
   "id": "fab69db2",
   "metadata": {},
   "outputs": [
    {
     "data": {
      "text/plain": [
       "531"
      ]
     },
     "execution_count": 41,
     "metadata": {},
     "output_type": "execute_result"
    }
   ],
   "source": [
    "data['City'].value_counts().count()"
   ]
  },
  {
   "cell_type": "markdown",
   "id": "896c74d7",
   "metadata": {},
   "source": [
    "# OBSERVATION:\n",
    "The company sells its products in 49 states and 531 cities."
   ]
  },
  {
   "cell_type": "markdown",
   "id": "5d84d6f9",
   "metadata": {},
   "source": [
    "# Top Products"
   ]
  },
  {
   "cell_type": "code",
   "execution_count": 42,
   "id": "a57b4a08",
   "metadata": {},
   "outputs": [
    {
     "data": {
      "text/plain": [
       "Text(0, 0.5, 'Sales')"
      ]
     },
     "execution_count": 42,
     "metadata": {},
     "output_type": "execute_result"
    },
    {
     "data": {
      "image/png": "[encoded data removed]",
      "text/plain": [
       "<Figure size 432x288 with 1 Axes>"
      ]
     },
     "metadata": {
      "needs_background": "light"
     },
     "output_type": "display_data"
    }
   ],
   "source": [
    "data.groupby('Sub-Category')['Sales'].sum().sort_values(ascending= False).plot.bar()\n",
    "plt.ylabel('Sales')"
   ]
  },
  {
   "cell_type": "markdown",
   "id": "06729c7c",
   "metadata": {},
   "source": [
    "# OBSERVATIONS:\n",
    "Phones and Chairs have maximum sales"
   ]
  },
  {
   "cell_type": "code",
   "execution_count": 43,
   "id": "f5ad66b8",
   "metadata": {},
   "outputs": [
    {
     "data": {
      "text/plain": [
       "Text(0, 0.5, 'Profit')"
      ]
     },
     "execution_count": 43,
     "metadata": {},
     "output_type": "execute_result"
    },
    {
     "data": {
      "image/png": "[encoded data removed]",
      "text/plain": [
       "<Figure size 432x288 with 1 Axes>"
      ]
     },
     "metadata": {
      "needs_background": "light"
     },
     "output_type": "display_data"
    }
   ],
   "source": [
    "data.groupby('Sub-Category')['Profit'].sum().sort_values(ascending= False).plot.bar(color='g')\n",
    "plt.ylabel('Profit')"
   ]
  },
  {
   "cell_type": "markdown",
   "id": "0f3bc405",
   "metadata": {},
   "source": [
    "# OBSERVATIONS:\n",
    "Book Cases and Tables face the Maximum Loss."
   ]
  },
  {
   "cell_type": "code",
   "execution_count": 44,
   "id": "fa5d744e",
   "metadata": {},
   "outputs": [
    {
     "data": {
      "text/plain": [
       "Text(0, 0.5, 'Discount')"
      ]
     },
     "execution_count": 44,
     "metadata": {},
     "output_type": "execute_result"
    },
    {
     "data": {
      "image/png": "[encoded data removed]",
      "text/plain": [
       "<Figure size 432x288 with 1 Axes>"
      ]
     },
     "metadata": {
      "needs_background": "light"
     },
     "output_type": "display_data"
    }
   ],
   "source": [
    "data.groupby('Sub-Category')['Discount'].sum().sort_values(ascending= False).plot.bar()\n",
    "plt.ylabel('Discount')"
   ]
  },
  {
   "cell_type": "markdown",
   "id": "f70fb8f1",
   "metadata": {},
   "source": [
    "# OBSERVATIONS:\n",
    "Blinders have maximum Discount."
   ]
  },
  {
   "cell_type": "markdown",
   "id": "e4cb6a52",
   "metadata": {},
   "source": [
    "# Quantity\n",
    " OBSERVING TOP AND LEAST 5 PERFORMING PRODUCTS"
   ]
  },
  {
   "cell_type": "code",
   "execution_count": 47,
   "id": "704fb327",
   "metadata": {},
   "outputs": [
    {
     "name": "stdout",
     "output_type": "stream",
     "text": [
      "TOP 5 PERFORMING PRODUCTS\n",
      "Sub-Category\n",
      "Envelopes    906\n",
      "Bookcases    868\n",
      "Supplies     647\n",
      "Machines     440\n",
      "Copiers      234\n",
      "Name: Quantity, dtype: int64\n"
     ]
    }
   ],
   "source": [
    "print(\"TOP 5 PERFORMING PRODUCTS\")\n",
    "print(data.groupby('Sub-Category')['Quantity'].sum().sort_values(ascending= False).tail())\n"
   ]
  },
  {
   "cell_type": "code",
   "execution_count": 46,
   "id": "fd2138b6",
   "metadata": {},
   "outputs": [
    {
     "name": "stdout",
     "output_type": "stream",
     "text": [
      "LEAST 5 PERFORMING PRODUCTS\n",
      "Sub-Category\n",
      "Envelopes    906\n",
      "Bookcases    868\n",
      "Supplies     647\n",
      "Machines     440\n",
      "Copiers      234\n",
      "Name: Quantity, dtype: int64\n"
     ]
    }
   ],
   "source": [
    "print(\"LEAST 5 PERFORMING PRODUCTS\")\n",
    "print(data.groupby('Sub-Category')['Quantity'].sum().sort_values(ascending= False).tail())\n"
   ]
  },
  {
   "cell_type": "markdown",
   "id": "60ba1c5c",
   "metadata": {},
   "source": [
    "# OBSERVATIONS\n",
    "1. MIN SALES =0.444,MAX SALES=22638.48, MIN PROFIT=-6599.978,MAX PROFIT=8399.97\n",
    "2. There is only one country in the dataset therefore, there is no need of Country and Postal code so drop from dataset.\n",
    "3. Consumer has both maximum Sales and Profit.\n",
    "4. Sales and Profit are directly related.\n",
    "5. Most transactions are done using Standard Class by all types of Segment class\n",
    "6. Maximum transactions are done by the West region ans Least by South.\n",
    "7. West has maximum Sales and Profit.\n",
    "8. South has Least Sales and Profit.\n",
    "9. Technology has highest Sales and Profit.\n",
    "10. Furniture has least Sales and Profit.\n",
    "11. Chairs are having maximum Sales and Profit\n",
    "12. Book cases and Tables have Minimum Profit rather are running in loss\n",
    "13. Book Cases and Tables have maximum Discount more than 20%\n",
    "14. The correlation between both Profit and Sales with Discount is Negative.\n",
    "15. For a discount over 20% there is not much sale which has caused loss in the furniture category\n",
    "16. The company sells its products in 49 states and 531 cities.\n",
    "17. Phones and Chairs have maximum sales\n",
    "18. Book Cases and Tables face the Maximum Loss.\n",
    "19. Blinders have maximum Discount.\n",
    "\n",
    "\n"
   ]
  },
  {
   "cell_type": "markdown",
   "id": "1cdcfebd",
   "metadata": {},
   "source": [
    "# SOLUTION\n",
    "# ONE OF THE POSSIBLE SOLUTION IS TO REDUCE THE DISCOUNT % FROM 20% OF THE FURNITURE CATEGORY TO INCREASE PROFIT."
   ]
  }
 ],
 "metadata": {
  "kernelspec": {
   "display_name": "Python 3",
   "language": "python",
   "name": "python3"
  },
  "language_info": {
   "codemirror_mode": {
    "name": "ipython",
    "version": 3
   },
   "file_extension": ".py",
   "mimetype": "text/x-python",
   "name": "python",
   "nbconvert_exporter": "python",
   "pygments_lexer": "ipython3",
   "version": "3.9.2"
  }
 },
 "nbformat": 4,
 "nbformat_minor": 5
}
